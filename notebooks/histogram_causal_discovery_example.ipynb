{
 "cells": [
  {
   "cell_type": "markdown",
   "metadata": {},
   "source": [
    "# Histogram-based Causal Discovery Example\\n\\nThis notebook demonstrates causal network discovery using the **Histogram-based** information method with binned density estimation.\\n\\n## Overview\\n- Generate synthetic time series with known causal structure\\n- Visualize the dynamics and network structure\\n- Apply causal discovery using Histogram-based conditional mutual information\\n- Evaluate performance using ROC-AUC metric\\n\\n"
   ]
  },
  {
   "cell_type": "code",
   "execution_count": null,
   "metadata": {},
   "outputs": [],
   "source": [
    "import numpy as np\n",
    "import matplotlib.pyplot as plt\n",
    "import networkx as nx\n",
    "import seaborn as sns\n",
    "from sklearn.metrics import roc_auc_score, roc_curve\n",
    "\n",
    "import warnings\\nwarnings.filterwarnings('ignore')\n",
    "\n",
    "# Import causal discovery components\n",
    "from causalentropy.core.discovery import discover_network\n",
    "from causalentropy.datasets.synthetic import linear_stochastic_gaussian_process\n",
    "\n",
    "# Set plotting style\n",
    "plt.style.use('seaborn-v0_8')\n",
    "sns.set_palette('Set2')\n",
    "print('Libraries imported successfully!')"
   ]
  },
  {
   "cell_type": "markdown",
   "metadata": {},
   "source": [
    "## 1. Create Ground Truth Network\\n\\nWe'll create a directed graph that represents the true causal relationships."
   ]
  },
  {
   "cell_type": "code",
   "execution_count": null,
   "metadata": {},
   "outputs": [],
   "source": [
    "# Create a ground truth network\n",
    "n_nodes = 5\n",
    "seed = 42\n",
    "p = 0.2 \n",
    "\n",
    "# Create a specific network structure\n",
    "np.random.seed(seed)\n",
    "G_true = nx.erdos_renyi_graph(n_nodes, p, seed=seed, directed=True)\n",
    "\n",
    "print(f\"Ground truth network has {G_true.number_of_nodes()} nodes and {G_true.number_of_edges()} edges\")\n",
    "print(f\"Edges: {list(G_true.edges())}\")\n",
    "\n",
    "# Get adjacency matrix for later comparison\n",
    "A_true = nx.to_numpy_array(G_true).T\n",
    "print(f\"\\nGround truth adjacency matrix:\")\n",
    "print(A_true)"
   ]
  },
  {
   "cell_type": "markdown",
   "metadata": {},
   "source": [
    "## 2. Generate Synthetic Histogram-based Data\n",
    "\n",
    "Generate binned density estimation with the known causal structure."
   ]
  },
  {
   "cell_type": "code",
   "execution_count": null,
   "metadata": {},
   "outputs": [],
   "source": [
    "# Generate synthetic Histogram-based data\n",
    "\n",
    "T = 200  # Time series length\n",
    "\n",
    "# Generate data using linear_stochastic_gaussian_process\n",
    "data, A_genera# Generate synthetic Gaussian time series\n",
    "T = 200  # Time series length\n",
    "rho = 0.7  # Coupling strength\n",
    "\n",
    "# Generate data using linear stochastic process\n",
    "data, A = linear_stochastic_gaussian_process(\n",
    "    rho=rho,\n",
    "    n=n_nodes,\n",
    "    T=T,\n",
    "    p=0.2,\n",
    "    seed=seed,\n",
    "    G=G_true\n",
    ")\n",
    "\n",
    "print(f\"Generated time series data with shape: {data.shape}\")\n",
    "print(f\"Data statistics:\")\n",
    "print(f\"  Mean: {np.mean(data):.3f}\")\n",
    "print(f\"  Std:  {np.std(data):.3f}\")\n",
    "print(f\"  Range: [{np.min(data):.3f}, {np.max(data):.3f}]\")"
   ]
  },
  {
   "cell_type": "markdown",
   "metadata": {},
   "source": [
    "## 3. Visualize Time Series Data\\n\\nPlot the binned density estimation to understand the data characteristics."
   ]
  },
  {
   "cell_type": "code",
   "execution_count": null,
   "metadata": {},
   "outputs": [],
   "source": [
    "# Plot time series for all variables\n",
    "T = 200 \n",
    "fig, axes = plt.subplots(n_nodes, 1, figsize=(12, 8), sharex=True)\n",
    "fig.suptitle('Gaussian Coupled Oscillators Time Series', fontsize=16, fontweight='bold')\n",
    "\n",
    "time = np.arange(T)\n",
    "colors = sns.color_palette(\"husl\", n_nodes)\n",
    "\n",
    "for i in range(n_nodes):\n",
    "    axes[i].plot(time, data[:, i], color=colors[i], alpha=0.8, linewidth=1.5)\n",
    "    axes[i].set_ylabel(f'X{i}', fontweight='bold')\n",
    "    axes[i].grid(True, alpha=0.3)\n",
    "    \n",
    "    # Highlight the time series statistics\n",
    "    mean_val = np.mean(data[:, i])\n",
    "    std_val = np.std(data[:, i])\n",
    "    axes[i].axhline(mean_val, color='red', linestyle='--', alpha=0.5, label=f'Mean: {mean_val:.2f}')\n",
    "    axes[i].fill_between(time, mean_val-std_val, mean_val+std_val, alpha=0.1, color='gray')\n",
    "    axes[i].legend(fontsize=8)\n",
    "\n",
    "axes[-1].set_xlabel('Time', fontweight='bold')\n",
    "plt.tight_layout()\n",
    "plt.show()"
   ]
  },
  {
   "cell_type": "markdown",
   "metadata": {},
   "source": [
    "## 4. Visualize Ground Truth Network"
   ]
  },
  {
   "cell_type": "code",
   "execution_count": null,
   "metadata": {},
   "outputs": [],
   "source": [
    "# Plot ground truth network\n",
    "plt.figure(figsize=(10, 8))\n",
    "\n",
    "# Create layout\n",
    "pos = nx.spring_layout(G_true, seed=seed, k=2, iterations=50)\n",
    "\n",
    "# Draw network\n",
    "nx.draw_networkx_nodes(G_true, pos, node_color='lightblue', \n",
    "                       node_size=1500, alpha=0.8)\n",
    "nx.draw_networkx_edges(G_true, pos, edge_color='darkblue', \n",
    "                       arrows=True, arrowsize=20, width=2, alpha=0.7)\n",
    "nx.draw_networkx_labels(G_true, pos, {i: f'X{i}' for i in range(n_nodes)},\n",
    "                        font_size=14, font_weight='bold')\n",
    "\n",
    "plt.title('Ground Truth Causal Network\\n(Gaussian Data)', \n",
    "          fontsize=16, fontweight='bold')\n",
    "plt.axis('off')\n",
    "plt.tight_layout()\n",
    "plt.show()\n",
    "\n",
    "# Print network statistics\n",
    "print(\"Ground Truth Network Statistics:\")\n",
    "print(f\"  Nodes: {G_true.number_of_nodes()}\")\n",
    "print(f\"  Edges: {G_true.number_of_edges()}\")\n",
    "print(f\"  Edge density: {nx.density(G_true):.3f}\")\n",
    "print(f\"  Is DAG: {nx.is_directed_acyclic_graph(G_true)}\")"
   ]
  },
  {
   "cell_type": "markdown",
   "metadata": {},
   "source": [
    "## 5. Apply Causal Discovery\\n\\nUse the Histogram-based method to discover causal relationships."
   ]
  },
  {
   "cell_type": "code",
   "execution_count": null,
   "metadata": {},
   "outputs": [],
   "source": [
    "# Apply causal discovery with Histogram-based method\\nprint('Applying causal discovery with Histogram-based information method...')\\nprint('This may take a few moments...\\\\n')\\n\\nmethods_to_test = ['standard', 'alternative']\\ndiscovered_networks = {}\\n\\nfor method in methods_to_test:\\n    print(f'Running {method} method...')\\n    \\n    G_discovered = discover_network(\\n        data=data,\\n        method=method,\\n        information='histogram',\\n        max_lag=2,\\n        alpha_forward=0.05,\\n        alpha_backward=0.05,\\n        n_shuffles=100\\n    )\\n    \\n    discovered_networks[method] = G_discovered\\n    print(f'  Discovered {G_discovered.number_of_edges()} edges')\\n    print(f'  Edges: {list(G_discovered.edges())}\\\\n')"
   ]
  },
  {
   "cell_type": "markdown",
   "metadata": {},
   "source": [
    "## 6. Calculate ROC-AUC Performance"
   ]
  },
  {
   "cell_type": "code",
   "execution_count": null,
   "metadata": {},
   "outputs": [],
   "source": [
    "def calculate_roc_auc(true_adj, discovered_graph):\\n    \\\"\\\"\\\"Calculate ROC-AUC for network discovery performance.\\\"\\\"\\\"\\n    n = true_adj.shape[0]\\n    \\n    G_int = nx.DiGraph()\\n    G_int.add_nodes_from(range(n))\\n    for edge in discovered_graph.edges():\\n        src = int(edge[0].replace('X', '')) if 'X' in str(edge[0]) else int(edge[0])\\n        dst = int(edge[1].replace('X', '')) if 'X' in str(edge[1]) else int(edge[1])\\n        G_int.add_edge(src, dst)\\n    \\n    discovered_adj = nx.adjacency_matrix(G_int, nodelist=range(n)).toarray()\\n    \\n    mask = ~np.eye(n, dtype=bool).flatten()\\n    y_true = true_adj.flatten()[mask]\\n    y_scores = discovered_adj.flatten()[mask]\\n    \\n    if len(np.unique(y_true)) > 1:\\n        auc_score = roc_auc_score(y_true, y_scores)\\n        fpr, tpr, _ = roc_curve(y_true, y_scores)\\n        return auc_score, fpr, tpr\\n    else:\\n        return None, None, None\\n\\n# Calculate ROC-AUC\\nresults = {}\\nplt.figure(figsize=(10, 6))\\n\\nfor method, G_disc in discovered_networks.items():\\n    auc_score, fpr, tpr = calculate_roc_auc(A_true, G_disc)\\n    \\n    if auc_score is not None:\\n        results[method] = {'auc': auc_score, 'fpr': fpr, 'tpr': tpr}\\n        plt.plot(fpr, tpr, linewidth=2, label=f'{method} (AUC = {auc_score:.3f})')\\n        print(f'{method} method: ROC-AUC = {auc_score:.3f}')\\n\\nplt.plot([0, 1], [0, 1], 'k--', alpha=0.5, label='Random (AUC = 0.500)')\\nplt.xlabel('False Positive Rate', fontweight='bold')\\nplt.ylabel('True Positive Rate', fontweight='bold')\\nplt.title('ROC Curves for Histogram-based Causal Discovery', fontweight='bold')\\nplt.legend()\\nplt.grid(True, alpha=0.3)\\nplt.tight_layout()\\nplt.show()"
   ]
  }
 ],
 "metadata": {
  "kernelspec": {
   "display_name": "Python 3 (ipykernel)",
   "language": "python",
   "name": "python3"
  },
  "language_info": {
   "codemirror_mode": {
    "name": "ipython",
    "version": 3
   },
   "file_extension": ".py",
   "mimetype": "text/x-python",
   "name": "python",
   "nbconvert_exporter": "python",
   "pygments_lexer": "ipython3",
   "version": "3.8.8"
  }
 },
 "nbformat": 4,
 "nbformat_minor": 4
}
