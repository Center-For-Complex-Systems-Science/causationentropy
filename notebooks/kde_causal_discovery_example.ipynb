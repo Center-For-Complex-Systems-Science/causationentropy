{
 "cells": [
  {
   "cell_type": "markdown",
   "metadata": {},
   "source": [
    "# KDE (Kernel Density) Causal Discovery Example\\n\\nThis notebook demonstrates causal network discovery using the **KDE (Kernel Density)** information method with non-parametric density estimation.\\n\\n## Overview\\n- Generate synthetic time series with known causal structure\\n- Visualize the dynamics and network structure\\n- Apply causal discovery using KDE (Kernel Density) conditional mutual information\\n- Evaluate performance using ROC-AUC metric\\n\\n"
   ]
  },
  {
   "cell_type": "code",
   "execution_count": null,
   "metadata": {},
   "outputs": [],
   "source": "import numpy as np\nimport matplotlib.pyplot as plt\nimport networkx as nx\nimport seaborn as sns\nfrom sklearn.metrics import roc_auc_score, roc_curve\nimport warnings\nwarnings.filterwarnings('ignore')\n# Import causal discovery components\nfrom causationentropy.core.discovery import discover_network\nfrom causationentropy.datasets.synthetic import linear_stochastic_gaussian_process\n\n# Set plotting style\nplt.style.use('seaborn-v0_8')\nsns.set_palette('viridis')\nprint('Libraries imported successfully!')"
  },
  {
   "cell_type": "markdown",
   "metadata": {},
   "source": [
    "## 1. Create Ground Truth Network\\n\\nWe'll create a directed graph that represents the true causal relationships."
   ]
  },
  {
   "cell_type": "code",
   "execution_count": null,
   "metadata": {},
   "outputs": [],
   "source": [
    "# Create ground truth network\n",
    "n_nodes = 5\n",
    "seed = 42\n",
    "np.random.seed(seed)\n",
    "G_true = nx.DiGraph()\n",
    "G_true.add_nodes_from(range(n_nodes))\n",
    "# Add specific causal edges\n",
    "edges = [(0, 1), (0, 2), (1, 3), (2, 4), (3, 4)]\n",
    "G_true.add_edges_from(edges)\n",
    "print(f'Ground truth network has {G_true.number_of_nodes()} nodes and {G_true.number_of_edges()} edges')\n",
    "print(f'Edges: {list(G_true.edges())}')\n",
    "A_true = nx.adjacency_matrix(G_true).toarray()\n",
    "print(f'\\\\nGround truth adjacency matrix:')\n",
    "print(A_true)"
   ]
  },
  {
   "cell_type": "markdown",
   "metadata": {},
   "source": [
    "## 2. Generate Synthetic KDE (Kernel Density) Data\n",
    "\n",
    "Generate non-parametric density estimation with the known causal structure."
   ]
  },
  {
   "cell_type": "code",
   "execution_count": null,
   "metadata": {},
   "outputs": [],
   "source": [
    "# Generate synthetic KDE (Kernel Density) data\n",
    "T = 200  # Time series length\n",
    "# Generate data using linear_stochastic_gaussian_process\n",
    "data, A_generated = linear_stochastic_gaussian_process(\n",
    "    n=n_nodes,\n",
    "    T=T,\n",
    "    G=G_true,\n",
    "    rho=0.7, p=0.0,\n",
    "    seed=seed\n",
    ")\n",
    "print(f'Generated KDE (Kernel Density) data with shape: {data.shape}')\n",
    "print(f'Data statistics:')\n",
    "print(f'  Mean: {np.mean(data):.3f}')\n",
    "print(f'  Std:  {np.std(data):.3f}')\n",
    "print(f'  Range: [{np.min(data):.3f}, {np.max(data):.3f}]')\n",
    "print(f'  Data type: Continuous (uses Gaussian data)')"
   ]
  },
  {
   "cell_type": "markdown",
   "metadata": {},
   "source": [
    "## 3. Visualize Time Series Data\\n\\nPlot the non-parametric density estimation to understand the data characteristics."
   ]
  },
  {
   "cell_type": "code",
   "execution_count": null,
   "metadata": {},
   "outputs": [],
   "source": [
    "# Plot time series\n",
    "fig, axes = plt.subplots(n_nodes, 1, figsize=(12, 8), sharex=True)\n",
    "fig.suptitle('KDE (Kernel Density) Coupled Oscillators', fontsize=16, fontweight='bold')\n",
    "time = np.arange(T)\n",
    "colors = sns.color_palette('viridis', n_nodes)\n",
    "for i in range(n_nodes):\n",
    "    axes[i].plot(time, data[:, i], color=colors[i], alpha=0.8, linewidth=1.5)\n",
    "    axes[i].set_ylabel(f'X{i}', fontweight='bold')\n",
    "    axes[i].grid(True, alpha=0.3)\n",
    "    mean_val = np.mean(data[:, i])\n",
    "    axes[i].axhline(mean_val, color='red', linestyle='--', alpha=0.5,\n",
    "                    label=f'Mean: {mean_val:.2f}')\n",
    "    axes[i].legend(fontsize=8)\\n\\naxes[-1].set_xlabel('Time', fontweight='bold')\n",
    "    plt.tight_layout()\n",
    "    plt.show()"
   ]
  },
  {
   "cell_type": "markdown",
   "metadata": {},
   "source": [
    "## 4. Visualize Ground Truth Network"
   ]
  },
  {
   "cell_type": "code",
   "execution_count": null,
   "metadata": {},
   "outputs": [],
   "source": [
    "# Plot ground truth network\n",
    "plt.figure(figsize=(10, 8))\n",
    "pos = nx.spring_layout(G_true, seed=seed, k=2, iterations=50)\n",
    "nx.draw_networkx_nodes(G_true, pos, node_color='lightgreen', \n",
    "                       node_size=1500, alpha=0.8)\n",
    "nx.draw_networkx_edges(G_true, pos, edge_color='darkgreen',\n",
    "                       arrows=True, arrowsize=20, width=2, alpha=0.7)\n",
    "nx.draw_networkx_labels(G_true, pos, {i: f'X{i}' for i in range(n_nodes)},\n",
    "                        font_size=14, font_weight='bold')\n",
    "plt.title('Ground Truth Causal Network\\\\n(KDE (Kernel Density) Data)',\n",
    "          fontsize=16, fontweight='bold')\n",
    "plt.axis('off')\n",
    "plt.tight_layout()\n",
    "plt.show()"
   ]
  },
  {
   "cell_type": "markdown",
   "metadata": {},
   "source": [
    "## 5. Apply Causal Discovery\\n\\nUse the KDE (Kernel Density) method to discover causal relationships."
   ]
  },
  {
   "cell_type": "code",
   "execution_count": null,
   "metadata": {},
   "outputs": [],
   "source": [
    "# Apply causal discovery with KDE (Kernel Density) method\n",
    "print('Applying causal discovery with KDE (Kernel Density) information method...')\n",
    "print('This may take a few moments...\\\\n')\n",
    "methods_to_test = ['standard', 'alternative']\n",
    "discovered_networks = {}\\\n",
    "for method in methods_to_test:\n",
    "    print(f'Running {method} method...')\n",
    "    G_discovered = discover_network(\n",
    "        data=data,\n",
    "        method=method,\n",
    "        information='kde',\n",
    "        max_lag=2,\n",
    "        alpha_forward=0.05,\n",
    "        alpha_backward=0.05,\n",
    "        n_shuffles=100\n",
    "    )\n",
    "    discovered_networks[method] = G_discovered\n",
    "    print(f'  Discovered {G_discovered.number_of_edges()} edges')\n",
    "    print(f'  Edges: {list(G_discovered.edges())}\\\\n')"
   ]
  },
  {
   "cell_type": "markdown",
   "metadata": {},
   "source": [
    "## 6. Calculate ROC-AUC Performance"
   ]
  },
  {
   "cell_type": "code",
   "execution_count": null,
   "metadata": {},
   "outputs": [],
   "source": [
    "def calculate_roc_auc(true_adj, discovered_graph):\\n    \\\"\\\"\\\"Calculate ROC-AUC for network discovery performance.\\\"\\\"\\\"\\n    n = true_adj.shape[0]\\n    \\n    G_int = nx.DiGraph()\\n    G_int.add_nodes_from(range(n))\\n    for edge in discovered_graph.edges():\\n        src = int(edge[0].replace('X', '')) if 'X' in str(edge[0]) else int(edge[0])\\n        dst = int(edge[1].replace('X', '')) if 'X' in str(edge[1]) else int(edge[1])\\n        G_int.add_edge(src, dst)\\n    \\n    discovered_adj = nx.adjacency_matrix(G_int, nodelist=range(n)).toarray()\\n    \\n    mask = ~np.eye(n, dtype=bool).flatten()\\n    y_true = true_adj.flatten()[mask]\\n    y_scores = discovered_adj.flatten()[mask]\\n    \\n    if len(np.unique(y_true)) > 1:\\n        auc_score = roc_auc_score(y_true, y_scores)\\n        fpr, tpr, _ = roc_curve(y_true, y_scores)\\n        return auc_score, fpr, tpr\\n    else:\\n        return None, None, None\\n\\n# Calculate ROC-AUC\\nresults = {}\\nplt.figure(figsize=(10, 6))\\n\\nfor method, G_disc in discovered_networks.items():\\n    auc_score, fpr, tpr = calculate_roc_auc(A_true, G_disc)\\n    \\n    if auc_score is not None:\\n        results[method] = {'auc': auc_score, 'fpr': fpr, 'tpr': tpr}\\n        plt.plot(fpr, tpr, linewidth=2, label=f'{method} (AUC = {auc_score:.3f})')\\n        print(f'{method} method: ROC-AUC = {auc_score:.3f}')\\n\\nplt.plot([0, 1], [0, 1], 'k--', alpha=0.5, label='Random (AUC = 0.500)')\\nplt.xlabel('False Positive Rate', fontweight='bold')\\nplt.ylabel('True Positive Rate', fontweight='bold')\\nplt.title('ROC Curves for KDE (Kernel Density) Causal Discovery', fontweight='bold')\\nplt.legend()\\nplt.grid(True, alpha=0.3)\\nplt.tight_layout()\\nplt.show()"
   ]
  },
  {
   "cell_type": "markdown",
   "metadata": {},
   "source": [
    "## 7. Conclusions"
   ]
  },
  {
   "cell_type": "code",
   "execution_count": null,
   "metadata": {},
   "outputs": [],
   "source": [
    "print('\\\\n' + '='*60)\\nprint('EXPERIMENT CONCLUSIONS - KDE (KERNEL DENSITY) CAUSAL DISCOVERY')\\nprint('='*60)\\n\\nprint(f'📊 DATA CHARACTERISTICS:')\\nprint(f'  • Data type: Continuous (uses Gaussian data)')\\nprint(f'  • Time series length: {T}')\\nprint(f'  • Number of variables: {n_nodes}')\\nprint(f'  • Ground truth edges: {G_true.number_of_edges()}')\\n\\nprint(f'🔍 DISCOVERY RESULTS:')\\nbest_auc = 0\\nbest_method = None\\nfor method, G_disc in discovered_networks.items():\\n    auc_val = results.get(method, {}).get('auc', 0)\\n    print(f'  • {method.capitalize()}: {G_disc.number_of_edges()} edges, AUC = {auc_val:.3f}')\\n    if auc_val > best_auc:\\n        best_auc = auc_val\\n        best_method = method\\n\\nif best_method:\\n    print(f'🏆 BEST METHOD: {best_method.upper()}')\\n    print(f'  • ROC-AUC: {best_auc:.3f}')\\n\\nprint(f'💡 KDE (KERNEL DENSITY) METHOD INSIGHTS:')\\nprint(f'  • Designed for non-parametric density estimation')\\nprint(f'  • Data type: Continuous (uses Gaussian data)')\\nprint(f'  • Performance depends on data characteristics and coupling strength')\\n\\nprint('Experiment completed! 🎉')"
   ]
  }
 ],
 "metadata": {
  "kernelspec": {
   "display_name": "Python 3 (ipykernel)",
   "language": "python",
   "name": "python3"
  },
  "language_info": {
   "codemirror_mode": {
    "name": "ipython",
    "version": 3
   },
   "file_extension": ".py",
   "mimetype": "text/x-python",
   "name": "python",
   "nbconvert_exporter": "python",
   "pygments_lexer": "ipython3",
   "version": "3.13.0"
  }
 },
 "nbformat": 4,
 "nbformat_minor": 4
}